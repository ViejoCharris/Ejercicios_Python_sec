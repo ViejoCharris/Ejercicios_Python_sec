{
  "nbformat": 4,
  "nbformat_minor": 0,
  "metadata": {
    "colab": {
      "provenance": [],
      "authorship_tag": "ABX9TyMz5O4irPAkjdLz/0byyAza",
      "include_colab_link": true
    },
    "kernelspec": {
      "name": "python3",
      "display_name": "Python 3"
    },
    "language_info": {
      "name": "python"
    }
  },
  "cells": [
    {
      "cell_type": "markdown",
      "metadata": {
        "id": "view-in-github",
        "colab_type": "text"
      },
      "source": [
        "<a href=\"https://colab.research.google.com/github/charrisgamer/Ejercicios_Python_sec/blob/main/Ejercicios.ipynb\" target=\"_parent\"><img src=\"https://colab.research.google.com/assets/colab-badge.svg\" alt=\"Open In Colab\"/></a>"
      ]
    },
    {
      "cell_type": "code",
      "execution_count": 9,
      "metadata": {
        "id": "8GRQQWoFbeUZ",
        "outputId": "cbe5bce6-59a3-40ad-db1f-6d079f19079e",
        "colab": {
          "base_uri": "https://localhost:8080/"
        }
      },
      "outputs": [
        {
          "output_type": "stream",
          "name": "stdout",
          "text": [
            "Escriba su nombre: Walter Charris\n",
            "Cual es su edad: 19\n",
            "Usted se llama Walter Charris y tienes edad es 19 años\n"
          ]
        }
      ],
      "source": [
        "name = input(\"Escriba su nombre: \")\n",
        "age = input(\"Cual es su edad: \")\n",
        "print(\"Usted se llama\", name, \"y tienes edad es\", str(age), \"años\")\n",
        "\n",
        "\n"
      ]
    },
    {
      "cell_type": "code",
      "source": [
        "b = float(input(\"Escriba la base: \"))\n",
        "h = float(input(\"Escriba su altura: \"))\n",
        "\n",
        "print(\"El Area del rectangulo es\", int(b*h))"
      ],
      "metadata": {
        "id": "y6bjaw6-cysR",
        "outputId": "fdea8856-b5ec-4e5f-c9e7-d98817eb1819",
        "colab": {
          "base_uri": "https://localhost:8080/"
        }
      },
      "execution_count": 20,
      "outputs": [
        {
          "output_type": "stream",
          "name": "stdout",
          "text": [
            "Escriba la base: 3\n",
            "Escriba su altura: 5\n",
            "El Area del rectangulo es 15\n"
          ]
        }
      ]
    },
    {
      "cell_type": "code",
      "source": [
        "b = float(input(\"Escriba la base: \"))\n",
        "h = float(input(\"Escriba su altura: \"))\n",
        "\n",
        "print(\"El Area del triangulo es\", int((b*h)/2))\n"
      ],
      "metadata": {
        "id": "yLS_DO4-ebR8",
        "outputId": "54714a41-bfde-44fb-8af8-2a8671e6f4cd",
        "colab": {
          "base_uri": "https://localhost:8080/"
        }
      },
      "execution_count": 25,
      "outputs": [
        {
          "output_type": "stream",
          "name": "stdout",
          "text": [
            "Escriba la base: 5\n",
            "Escriba su altura: 10\n",
            "El Area del triangulo es 25\n"
          ]
        }
      ]
    },
    {
      "cell_type": "code",
      "source": [
        "import math\n",
        "r = float(input(\"Escriba el radio: \"))\n",
        "\n",
        "print(\"El Area del circulo es\", ((r**2)*math.pi))"
      ],
      "metadata": {
        "id": "2M-cTSGJf8z-",
        "outputId": "223d8aaa-856d-41d8-e350-a2689603a172",
        "colab": {
          "base_uri": "https://localhost:8080/"
        }
      },
      "execution_count": 41,
      "outputs": [
        {
          "output_type": "stream",
          "name": "stdout",
          "text": [
            "Escriba el radio: 2\n",
            "El Area del circulo es 12.566370614359172\n"
          ]
        }
      ]
    },
    {
      "cell_type": "code",
      "source": [
        "import math\n",
        "A = float(input(\"Escriba la amplitud: \"))\n",
        "f = float(input(\"Escriba la frecuencia: \"))\n",
        "ang = float(input(\"Escriba el angulo: \"))\n",
        "t = float(input(\"Escriba el tiempo: \"))\n",
        "\n",
        "w = 2*math.pi*f\n",
        "o = ang*(math.pi/180)\n",
        "\n",
        "V = A*math.cos(w*t + o)\n",
        "print(V)"
      ],
      "metadata": {
        "id": "r74EEPa2hu92",
        "outputId": "e742971e-c37c-48cd-ef0d-5b71be4e2529",
        "colab": {
          "base_uri": "https://localhost:8080/"
        }
      },
      "execution_count": 44,
      "outputs": [
        {
          "output_type": "stream",
          "name": "stdout",
          "text": [
            "Escriba la amplitud: 208\n",
            "Escriba la frecuencia: 60\n",
            "Escriba el angulo: 30\n",
            "Escriba el tiempo: 16.15\n",
            "180.13328398724155\n"
          ]
        }
      ]
    },
    {
      "cell_type": "code",
      "source": [],
      "metadata": {
        "id": "r42D_z0KkKJv"
      },
      "execution_count": null,
      "outputs": []
    }
  ]
}